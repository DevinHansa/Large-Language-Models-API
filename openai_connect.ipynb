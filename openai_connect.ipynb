{
 "cells": [
  {
   "cell_type": "code",
   "execution_count": 50,
   "metadata": {},
   "outputs": [],
   "source": [
    "#!pip install openai"
   ]
  },
  {
   "cell_type": "code",
   "execution_count": 51,
   "metadata": {},
   "outputs": [],
   "source": [
    "import os, yaml\n",
    "from openai import OpenAI"
   ]
  },
  {
   "cell_type": "code",
   "execution_count": null,
   "metadata": {},
   "outputs": [],
   "source": [
    "#setting the credenitials required for OPEN AI/ TOGETHER\n",
    "\n",
    "import yaml\n",
    "import os\n",
    "\n",
    "try:\n",
    "    # Load credentials from YAML file\n",
    "    with open(\"credentials.yaml\", 'r') as file:\n",
    "        credentials = yaml.safe_load(file)\n",
    "except FileNotFoundError:\n",
    "    print(\"Error: credentials.yaml file not found.\")\n",
    "    exit(1)\n",
    "except Exception as e:\n",
    "    print(f\"An unexpected error occurred while loading credentials.yaml: {e}\")\n",
    "    exit(1)\n",
    "\n",
    "\n",
    "\n",
    "# Ensure credentials loaded successfully and are in correct format\n",
    "if not isinstance(credentials, dict):\n",
    "    print(\"Error: credentials.yaml does not contain valid credentials.\")\n",
    "    exit(1)\n",
    "\n",
    "# Extract individual credentials\n",
    "OPENAI_API_KEY = credentials.get('OPENAI_API_KEY')\n",
    "TOGETHER_API_KEY = credentials.get('TOGETHER_API_KEY')\n",
    "\n",
    "# Set environment variables\n",
    "try:\n",
    "    os.environ['OPENAI_API_KEY'] = OPENAI_API_KEY\n",
    "    os.environ['TOGETHER_API_KEY'] = TOGETHER_API_KEY\n",
    "    print(\"Environment variables set successfully.\")\n",
    "except Exception as e:\n",
    "    print(f\"An unexpected error occurred while setting environment variables: {e}\")\n",
    "\n",
    "\n",
    "\n"
   ]
  },
  {
   "cell_type": "code",
   "execution_count": 53,
   "metadata": {},
   "outputs": [],
   "source": [
    "client= OpenAI()"
   ]
  },
  {
   "cell_type": "code",
   "execution_count": 54,
   "metadata": {},
   "outputs": [],
   "source": [
    "def complete_response(prompt):\n",
    "    try:\n",
    "        response = client.chat.completions.create(\n",
    "            model=\"gpt-3.5-turbo\",\n",
    "            messages=[\n",
    "                {\"role\": \"system\", \"content\": \"You are a helpful assistant to generate responses based on the given prompt\"},\n",
    "                {\"role\": \"user\", \"content\": prompt}\n",
    "            ],\n",
    "            temperature=0.5,\n",
    "            max_tokens=500\n",
    "        )\n",
    "        if response.choices:\n",
    "            return str(response.choices[0].message.content)\n",
    "        else:\n",
    "            return \"Error: Empty response\"\n",
    "    except Exception as e:\n",
    "        return f\"Error: {e}\"\n",
    "\n"
   ]
  },
  {
   "cell_type": "code",
   "execution_count": 55,
   "metadata": {},
   "outputs": [],
   "source": [
    "output=complete_response(\"Who is the president of Sri Lanka?\")"
   ]
  },
  {
   "cell_type": "code",
   "execution_count": null,
   "metadata": {},
   "outputs": [],
   "source": [
    "print(output)"
   ]
  }
 ],
 "metadata": {
  "kernelspec": {
   "display_name": "Python 3",
   "language": "python",
   "name": "python3"
  },
  "language_info": {
   "codemirror_mode": {
    "name": "ipython",
    "version": 3
   },
   "file_extension": ".py",
   "mimetype": "text/x-python",
   "name": "python",
   "nbconvert_exporter": "python",
   "pygments_lexer": "ipython3",
   "version": "3.12.2"
  }
 },
 "nbformat": 4,
 "nbformat_minor": 2
}
